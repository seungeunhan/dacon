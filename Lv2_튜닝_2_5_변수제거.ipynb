{
  "nbformat": 4,
  "nbformat_minor": 0,
  "metadata": {
    "colab": {
      "name": "Lv2 튜닝 2/5 변수제거",
      "provenance": [],
      "collapsed_sections": [
        "J1Is2vFL4cxY"
      ],
      "include_colab_link": true
    },
    "kernelspec": {
      "name": "python3",
      "display_name": "Python 3"
    },
    "language_info": {
      "name": "python"
    }
  },
  "cells": [
    {
      "cell_type": "markdown",
      "metadata": {
        "id": "view-in-github",
        "colab_type": "text"
      },
      "source": [
        "<a href=\"https://colab.research.google.com/github/seungeunhan/dacon/blob/main/Lv2_%ED%8A%9C%EB%8B%9D_2_5_%EB%B3%80%EC%88%98%EC%A0%9C%EA%B1%B0.ipynb\" target=\"_parent\"><img src=\"https://colab.research.google.com/assets/colab-badge.svg\" alt=\"Open In Colab\"/></a>"
      ]
    },
    {
      "cell_type": "markdown",
      "metadata": {
        "id": "vIpjpOEXsoW0"
      },
      "source": [
        "# [↩️ 리스트로 돌아가기](https://dacon.io/competitions/open/235698/overview/description)"
      ]
    },
    {
      "cell_type": "markdown",
      "metadata": {
        "id": "Y8EsppNShcez"
      },
      "source": [
        "# 셀을 실행할 때 팝업이 뜨면 `무시하고 계속하기` 를 눌러주세요\n"
      ]
    },
    {
      "cell_type": "markdown",
      "metadata": {
        "id": "7A1_NrpnNgI0"
      },
      "source": [
        "## 데이터 다운로드\n",
        "--- \n",
        "아래 셀을 실행시켜 데이터를 colab에 불러옵니다.  \n",
        "셀 실행은 Ctrl + Enter 를 이용해 실행 시킬 수 있습니다. "
      ]
    },
    {
      "cell_type": "code",
      "metadata": {
        "id": "a3VxvpLvhnap"
      },
      "source": [
        "# 데이터 다운로드 링크로 데이터를 코랩에 불러옵니다.\n",
        "\n",
        "!wget 'https://bit.ly/3gLj0Q6'\n",
        "\n",
        "import zipfile\n",
        "with zipfile.ZipFile('3gLj0Q6', 'r') as existing_zip:\n",
        "    existing_zip.extractall('data')"
      ],
      "execution_count": null,
      "outputs": []
    },
    {
      "cell_type": "markdown",
      "metadata": {
        "id": "gx8XCXCxeQk8"
      },
      "source": [
        "## 라이브러리 불러오기\n",
        "---\n",
        "아래 셀을 실행시켜 pandas 와 DecisionTreeClassifier 를 불러옵니다."
      ]
    },
    {
      "cell_type": "code",
      "metadata": {
        "id": "kt_IKrkPeNwQ"
      },
      "source": [
        "import pandas as pd\n",
        "from sklearn.ensemble import RandomForestRegressor"
      ],
      "execution_count": 2,
      "outputs": []
    },
    {
      "cell_type": "markdown",
      "metadata": {
        "id": "VxC2pa2-rgat"
      },
      "source": [
        "## 데이터 불러오기\n",
        "---\n",
        "아래 셀을 실행시켜 csv 파일 데이터를 DataFrame 객체로 불러옵니다."
      ]
    },
    {
      "cell_type": "code",
      "metadata": {
        "id": "V6wTaK4sfnms"
      },
      "source": [
        "train = pd.read_csv('data/train.csv') \n",
        "test = pd.read_csv('data/test.csv')"
      ],
      "execution_count": 3,
      "outputs": []
    },
    {
      "cell_type": "markdown",
      "metadata": {
        "id": "w_PwM9kF7Pbi"
      },
      "source": [
        "## 결측치 전처리\n",
        "---\n",
        "train 은 interpolate() 를 이용해 결측치를 DataFrame 값에 선형으로 비례하여 보간합니다.\n",
        "test 의 결측치는 0으로 채워줍니다."
      ]
    },
    {
      "cell_type": "code",
      "metadata": {
        "id": "H2K-UbwAkuJ6"
      },
      "source": [
        "train.interpolate(inplace=True)\n",
        "test.fillna(0, inplace=True)"
      ],
      "execution_count": 4,
      "outputs": []
    },
    {
      "cell_type": "markdown",
      "metadata": {
        "id": "xgP6p_GO86fg"
      },
      "source": [
        "## 모델 훈련\n",
        "---"
      ]
    },
    {
      "cell_type": "code",
      "metadata": {
        "id": "Cc10QSz6eyPa"
      },
      "source": [
        "X_train = train.drop(['count'], axis=1)\n",
        "Y_train = train['count']"
      ],
      "execution_count": 5,
      "outputs": []
    },
    {
      "cell_type": "code",
      "metadata": {
        "id": "L7_OxhLblCZ_"
      },
      "source": [
        "model = RandomForestRegressor(criterion = 'mse')\n",
        "model.fit(X_train, Y_train)"
      ],
      "execution_count": null,
      "outputs": []
    },
    {
      "cell_type": "code",
      "metadata": {
        "id": "jaI0teRl7kGK"
      },
      "source": [
        "model.feature_importances_"
      ],
      "execution_count": null,
      "outputs": []
    },
    {
      "cell_type": "markdown",
      "metadata": {
        "id": "ZksEbPou52yW"
      },
      "source": [
        "## 👋 실습\n",
        "---"
      ]
    },
    {
      "cell_type": "code",
      "metadata": {
        "id": "86ldFLXsk2GZ"
      },
      "source": [
        "# X_train 에서 drop 할 피쳐의 경우에 수 대로 3개의 X_train 을 생성하세요.\n",
        "# 각 train 에 따라 동일하게 피쳐를 drop 한 test 셋들을 생성하세요.\n",
        "X_train_1 = train.drop(['count','id'], axis=1)\n",
        "X_train_2 = train.drop(['count', 'id', 'hour_bef_windspeed'], axis=1)\n",
        "X_train_3 = train.drop(['count', 'id', 'hour_bef_windspeed', 'hour_bef_pm2.5'], axis=1)\n",
        "\n",
        "test_1 = test.drop(['id'], axis=1)\n",
        "test_2 = test.drop(['id', 'hour_bef_windspeed'], axis=1)\n",
        "test_3 = test.drop(['id', 'hour_bef_windspeed', 'hour_bef_pm2.5'], axis=1)"
      ],
      "execution_count": 8,
      "outputs": []
    },
    {
      "cell_type": "code",
      "metadata": {
        "id": "Dx1Bnx_c2nJy",
        "outputId": "59a30f0e-735f-4ef3-bade-c81433b3d55e",
        "colab": {
          "base_uri": "https://localhost:8080/"
        }
      },
      "source": [
        "# 각 X_train에 대해 모델 훈련을 해주세요.\n",
        "model_input_var1 = RandomForestRegressor(criterion = 'mse')\n",
        "model_input_var1.fit(X_train_1, Y_train)\n",
        "\n",
        "model_input_var2 = RandomForestRegressor(criterion = 'mse')\n",
        "model_input_var2.fit(X_train_2, Y_train)\n",
        "\n",
        "model_input_var3 = RandomForestRegressor(criterion = 'mse')\n",
        "model_input_var3.fit(X_train_3, Y_train)"
      ],
      "execution_count": 9,
      "outputs": [
        {
          "output_type": "execute_result",
          "data": {
            "text/plain": [
              "RandomForestRegressor(criterion='mse')"
            ]
          },
          "metadata": {},
          "execution_count": 9
        }
      ]
    },
    {
      "cell_type": "code",
      "metadata": {
        "id": "zRXoXsF13pK7"
      },
      "source": [
        "# 각 모델로 test 셋들을 예측해주세요.\n",
        "y_pred_1 = model_input_var1.predict(test_1)\n",
        "y_pred_2 = model_input_var2.predict(test_2)\n",
        "y_pred_3 = model_input_var3.predict(test_3)"
      ],
      "execution_count": 10,
      "outputs": []
    },
    {
      "cell_type": "code",
      "metadata": {
        "id": "dYyBlm3d3vNw"
      },
      "source": [
        "# 각 결과들을 submission 파일로 저장해주세요.\n",
        "submission_1 = pd.read_csv('data/submission.csv')\n",
        "submission_2 = pd.read_csv('data/submission.csv')\n",
        "submission_3 = pd.read_csv('data/submission.csv')\n",
        "\n",
        "submission_1['count'] = y_pred_1\n",
        "submission_2['count'] = y_pred_2\n",
        "submission_3['count'] = y_pred_3\n",
        "\n",
        "submission_1.to_csv('sub_1.csv',index=False)\n",
        "submission_2.to_csv('sub_2.csv',index=False)\n",
        "submission_3.to_csv('sub_3.csv',index=False)"
      ],
      "execution_count": 11,
      "outputs": []
    },
    {
      "cell_type": "markdown",
      "metadata": {
        "id": "J1Is2vFL4cxY"
      },
      "source": [
        "## 정답\n",
        "---"
      ]
    },
    {
      "cell_type": "code",
      "metadata": {
        "id": "ZOHdV_UjJ-Y9"
      },
      "source": [
        "# X_train 에서 drop 할 피쳐의 경우에 수 대로 3개의 X_train 을 생성하세요.\n",
        "\n",
        "X_train_1 = train.drop(['count','id'], axis=1)\n",
        "X_train_2 = train.drop(['count', 'id', 'hour_bef_windspeed'], axis=1)\n",
        "X_train_3 = train.drop(['count', 'id', 'hour_bef_windspeed', 'hour_bef_pm2.5'], axis=1)\n",
        "\n",
        "# 각 train 에 따라 동일하게 피쳐를 drop 한 test 셋들을 생성하세요.\n",
        "\n",
        "test_1 = test.drop(['id'], axis=1)\n",
        "test_2 = test.drop(['id', 'hour_bef_windspeed'], axis=1)\n",
        "test_3 = test.drop(['id', 'hour_bef_windspeed', 'hour_bef_pm2.5'], axis=1)"
      ],
      "execution_count": null,
      "outputs": []
    },
    {
      "cell_type": "code",
      "metadata": {
        "id": "rGbL9SKEPrnk"
      },
      "source": [
        "# 각 X_train에 대해 모델 훈련을 해주세요.\n",
        "\n",
        "model_input_var1 = RandomForestRegressor(criterion = 'mse')\n",
        "model_input_var1.fit(X_train_1, Y_train)\n",
        "\n",
        "model_input_var2 = RandomForestRegressor(criterion = 'mse')\n",
        "model_input_var2.fit(X_train_2, Y_train)\n",
        "\n",
        "model_input_var3 = RandomForestRegressor(criterion = 'mse')\n",
        "model_input_var3.fit(X_train_3, Y_train)"
      ],
      "execution_count": null,
      "outputs": []
    },
    {
      "cell_type": "code",
      "metadata": {
        "id": "XQZhCUCap4mD"
      },
      "source": [
        "# 각 모델로 test 셋들을 예측해주세요.\n",
        "\n",
        "y_pred_1 = model_input_var1.predict(test_1)\n",
        "y_pred_2 = model_input_var2.predict(test_2)\n",
        "y_pred_3 = model_input_var3.predict(test_3)"
      ],
      "execution_count": null,
      "outputs": []
    },
    {
      "cell_type": "code",
      "metadata": {
        "id": "oFlh7313va1X"
      },
      "source": [
        "# 각 결과들을 submission 파일로 저장해주세요.\n",
        "\n",
        "submission_1 = pd.read_csv('data/submission.csv')\n",
        "submission_2 = pd.read_csv('data/submission.csv')\n",
        "submission_3 = pd.read_csv('data/submission.csv')\n",
        "\n",
        "submission_1['count'] = y_pred_1\n",
        "submission_2['count'] = y_pred_2\n",
        "submission_3['count'] = y_pred_3\n",
        "\n",
        "submission_1.to_csv('sub_1.csv',index=False)\n",
        "submission_2.to_csv('sub_2.csv',index=False)\n",
        "submission_3.to_csv('sub_3.csv',index=False)"
      ],
      "execution_count": null,
      "outputs": []
    },
    {
      "cell_type": "markdown",
      "metadata": {
        "id": "K8YgC54VtiB7"
      },
      "source": [
        "# [↩️ 리스트로 돌아가기](https://dacon.io/competitions/open/235698/overview/description)"
      ]
    }
  ]
}